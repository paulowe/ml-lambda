{
  "nbformat": 4,
  "nbformat_minor": 0,
  "metadata": {
    "kernelspec": {
      "display_name": "Python 3",
      "language": "python",
      "name": "python3"
    },
    "language_info": {
      "codemirror_mode": {
        "name": "ipython",
        "version": 3
      },
      "file_extension": ".py",
      "mimetype": "text/x-python",
      "name": "python",
      "nbconvert_exporter": "python",
      "pygments_lexer": "ipython3",
      "version": "3.7.4"
    },
    "colab": {
      "name": "Copy of training_jupyter.ipynb",
      "provenance": [],
      "toc_visible": true,
      "include_colab_link": true
    }
  },
  "cells": [
    {
      "cell_type": "markdown",
      "metadata": {
        "id": "view-in-github",
        "colab_type": "text"
      },
      "source": [
        "<a href=\"https://colab.research.google.com/github/paulowe/ml-lambda/blob/main/colab-train.ipynb\" target=\"_parent\"><img src=\"https://colab.research.google.com/assets/colab-badge.svg\" alt=\"Open In Colab\"/></a>"
      ]
    },
    {
      "cell_type": "markdown",
      "metadata": {
        "id": "swXGJ1Hn5Ha6"
      },
      "source": [
        "## Import packages \n"
      ]
    },
    {
      "cell_type": "code",
      "metadata": {
        "id": "wnpRqdf73J_W",
        "outputId": "1749bbf1-adbb-4bf5-af31-0b0c57dcfd1f",
        "colab": {
          "base_uri": "https://localhost:8080/",
          "height": 71
        }
      },
      "source": [
        "import sklearn\n",
        "import pandas as pd\n",
        "import numpy as np\n",
        "import csv as csv\n",
        "from sklearn.model_selection import train_test_split\n",
        "from sklearn.neural_network import MLPClassifier\n",
        "from sklearn.metrics import classification_report\n",
        "from sklearn import metrics\n",
        "from sklearn.externals import joblib\n",
        "from sklearn.preprocessing import label_binarize\n",
        "from sklearn.metrics import accuracy_score\n",
        "from sklearn.metrics import precision_recall_fscore_support\n",
        "from sklearn.metrics import roc_auc_score"
      ],
      "execution_count": 2,
      "outputs": [
        {
          "output_type": "stream",
          "text": [
            "/usr/local/lib/python3.6/dist-packages/sklearn/externals/joblib/__init__.py:15: FutureWarning: sklearn.externals.joblib is deprecated in 0.21 and will be removed in 0.23. Please import this functionality directly from joblib, which can be installed with: pip install joblib. If this warning is raised when loading pickled models, you may need to re-serialize those models with scikit-learn 0.21+.\n",
            "  warnings.warn(msg, category=FutureWarning)\n"
          ],
          "name": "stderr"
        }
      ]
    },
    {
      "cell_type": "markdown",
      "metadata": {
        "id": "CEFUPItd4-Ot"
      },
      "source": [
        "- Verify you are running Version 0.23.1 of sklearn. Some of the packages used for model evaluation only work with this version or higher.\n",
        "\n",
        "- Run <> to upgrade sklearn"
      ]
    },
    {
      "cell_type": "code",
      "metadata": {
        "id": "BJ9o75PJ3J_e",
        "outputId": "c459a766-30e1-4167-f45b-bf43e3aa7b8e",
        "colab": {
          "base_uri": "https://localhost:8080/",
          "height": 37
        }
      },
      "source": [
        "sklearn.__version__"
      ],
      "execution_count": 3,
      "outputs": [
        {
          "output_type": "execute_result",
          "data": {
            "application/vnd.google.colaboratory.intrinsic+json": {
              "type": "string"
            },
            "text/plain": [
              "'0.22.2.post1'"
            ]
          },
          "metadata": {
            "tags": []
          },
          "execution_count": 3
        }
      ]
    },
    {
      "cell_type": "markdown",
      "metadata": {
        "id": "vAEVz-ab52Tp"
      },
      "source": [
        "## Import Data\n",
        "\n",
        "X - all training examples\n",
        "y - all true labels"
      ]
    },
    {
      "cell_type": "code",
      "metadata": {
        "id": "fWeab8wQ3J_j"
      },
      "source": [
        "data = pd.read_csv('./syntheticData.csv')\n",
        "X, y = data.iloc[:, 1:], data.iloc[:,0]"
      ],
      "execution_count": 4,
      "outputs": []
    },
    {
      "cell_type": "markdown",
      "metadata": {
        "id": "uS1m9EoR9r4n"
      },
      "source": [
        "## Visualize Data \n",
        "\n",
        "(80100 * 377) training matrix\n",
        "\n",
        "(801 * 1) label vector\n"
      ]
    },
    {
      "cell_type": "code",
      "metadata": {
        "id": "XXtjJlpf95_C",
        "outputId": "6b8cba6a-5c45-4219-f9be-997ab64caa02",
        "colab": {
          "base_uri": "https://localhost:8080/",
          "height": 289
        }
      },
      "source": [
        "print(X.head())\n",
        "print(X.shape)\n",
        "print(y.head())\n",
        "print(y.shape)"
      ],
      "execution_count": 5,
      "outputs": [
        {
          "output_type": "stream",
          "text": [
            "   Abdominal distention  ...  Wrist weakness\n",
            "0                     0  ...               0\n",
            "1                     0  ...               0\n",
            "2                     0  ...               0\n",
            "3                     0  ...               0\n",
            "4                     0  ...               0\n",
            "\n",
            "[5 rows x 377 columns]\n",
            "(80100, 377)\n",
            "0    Abdominal aortic aneurysm\n",
            "1    Abdominal aortic aneurysm\n",
            "2    Abdominal aortic aneurysm\n",
            "3    Abdominal aortic aneurysm\n",
            "4    Abdominal aortic aneurysm\n",
            "Name: Conditions_name, dtype: object\n",
            "(80100,)\n"
          ],
          "name": "stdout"
        }
      ]
    },
    {
      "cell_type": "markdown",
      "metadata": {
        "id": "bPFZnpeQ_Vyg"
      },
      "source": [
        "## Split into training, cross validation and test sets\n",
        "\n",
        "- Shuffle dataset\n",
        "\n",
        "- Perform Split (60-20-20)"
      ]
    },
    {
      "cell_type": "code",
      "metadata": {
        "id": "RzLuuwlO3J_n",
        "outputId": "64759019-9dfb-4669-e4ac-faf147d652aa",
        "colab": {
          "base_uri": "https://localhost:8080/",
          "height": 170
        }
      },
      "source": [
        "X_train, X_test, y_train, y_test = train_test_split(X, y, test_size=0.40, stratify=y)\n",
        "\n",
        "X_cv, X_test, y_cv, y_test = train_test_split(X_test, y_test, test_size=0.5, stratify=y_test)\n",
        "\n",
        "print(\"Training data dimensions\")\n",
        "print(X_train.shape)\n",
        "print(y_train.shape)\n",
        "\n",
        "print(\"Cross validation data dimensions\")\n",
        "print(X_cv.shape)\n",
        "print(y_cv.shape)\n",
        "\n",
        "print(\"Test data dimensions\")\n",
        "print(X_test.shape)\n",
        "print(y_test.shape)\n"
      ],
      "execution_count": 6,
      "outputs": [
        {
          "output_type": "stream",
          "text": [
            "Training data dimensions\n",
            "(48060, 377)\n",
            "(48060,)\n",
            "Cross validation data dimensions\n",
            "(16020, 377)\n",
            "(16020,)\n",
            "Test data dimensions\n",
            "(16020, 377)\n",
            "(16020,)\n"
          ],
          "name": "stdout"
        }
      ]
    },
    {
      "cell_type": "markdown",
      "metadata": {
        "id": "KX9U7cLFE-0S"
      },
      "source": [
        "## Train default MLP Classifier"
      ]
    },
    {
      "cell_type": "code",
      "metadata": {
        "id": "6OvUBtp1E9GO",
        "outputId": "d47a958c-7e46-4946-9f5b-abcf51c075c0",
        "colab": {
          "base_uri": "https://localhost:8080/",
          "height": 71
        }
      },
      "source": [
        "clf = MLPClassifier()\n",
        "clf = clf.fit(X_train, y_train)"
      ],
      "execution_count": 7,
      "outputs": [
        {
          "output_type": "stream",
          "text": [
            "/usr/local/lib/python3.6/dist-packages/sklearn/neural_network/_multilayer_perceptron.py:571: ConvergenceWarning: Stochastic Optimizer: Maximum iterations (200) reached and the optimization hasn't converged yet.\n",
            "  % self.max_iter, ConvergenceWarning)\n"
          ],
          "name": "stderr"
        }
      ]
    },
    {
      "cell_type": "markdown",
      "metadata": {
        "id": "QoNEvTPKeSBO"
      },
      "source": [
        "## Training Variant: Bottom Up implementation\n",
        "\n",
        "In this variant I will implement an identical classifier to the one we trained above. The objective here is to expose underlying components of the training process and perform direct optimization and monitoring techniques.\n",
        "\n",
        "- Prediction function\n",
        "- Sigmoid Activation\n",
        "- Cost Function\n"
      ]
    },
    {
      "cell_type": "code",
      "metadata": {
        "id": "AfwpjsrqfAFf"
      },
      "source": [
        "def predict(Theta1, Theta2, X):\n",
        "    \"\"\"\n",
        "    Predict the label of an input given a trained neural network\n",
        "    \"\"\"\n",
        "    m= X.shape[0]\n",
        "    X = np.hstack((np.ones((m,1)),X))\n",
        "    \n",
        "    a1 = sigmoid(X @ Theta1.T)\n",
        "    a1 = np.hstack((np.ones((m,1)), a1)) # hidden layer\n",
        "    a2 = sigmoid(a1 @ Theta2.T) # output layer\n",
        "    \n",
        "    return np.argmax(a2,axis=1)+1"
      ],
      "execution_count": null,
      "outputs": []
    },
    {
      "cell_type": "markdown",
      "metadata": {
        "id": "HfkWlhEVF9tU"
      },
      "source": [
        "## Model Evaluation\n",
        "\n",
        "Model Evaluation is an important part of understanding your model performance. \n",
        "\n",
        "For that matter it is crucial to choose a good evaluation metric you can monitor. In our case Accuracy makes the most sense.\n",
        "\n",
        "We will monitor\n",
        "\n",
        "- Accuracy on Test (clf)\n",
        "- AUC (implementation requires sklearn v0.23.1 +) \n",
        "\n",
        "- Accuracy on Test (eng)\n",
        "- AUC\n",
        "\n",
        "- Accuracy other vairants (vnt)\n",
        "- AUC\n"
      ]
    },
    {
      "cell_type": "code",
      "metadata": {
        "id": "Jh2NvNnN3J_q",
        "outputId": "d3cb9c2a-01f5-487b-b418-988cdc52bb78",
        "colab": {
          "base_uri": "https://localhost:8080/",
          "height": 232
        }
      },
      "source": [
        "# Accuracy\n",
        "testsetPred = clf.predict(X_test)\n",
        "accuracy_score(y_test, testsetPred)\n",
        "\n",
        "#AUC\n",
        "#roc_auc_score(y_test, testsetPred, multi_class='ovr')"
      ],
      "execution_count": 1,
      "outputs": [
        {
          "output_type": "error",
          "ename": "NameError",
          "evalue": "ignored",
          "traceback": [
            "\u001b[0;31m---------------------------------------------------------------------------\u001b[0m",
            "\u001b[0;31mNameError\u001b[0m                                 Traceback (most recent call last)",
            "\u001b[0;32m<ipython-input-1-3ab4c1baa18b>\u001b[0m in \u001b[0;36m<module>\u001b[0;34m()\u001b[0m\n\u001b[1;32m      1\u001b[0m \u001b[0;31m# Accuracy\u001b[0m\u001b[0;34m\u001b[0m\u001b[0;34m\u001b[0m\u001b[0;34m\u001b[0m\u001b[0m\n\u001b[0;32m----> 2\u001b[0;31m \u001b[0mtestsetPred\u001b[0m \u001b[0;34m=\u001b[0m \u001b[0mclf\u001b[0m\u001b[0;34m.\u001b[0m\u001b[0mpredict\u001b[0m\u001b[0;34m(\u001b[0m\u001b[0mX_test\u001b[0m\u001b[0;34m)\u001b[0m\u001b[0;34m\u001b[0m\u001b[0;34m\u001b[0m\u001b[0m\n\u001b[0m\u001b[1;32m      3\u001b[0m \u001b[0maccuracy_score\u001b[0m\u001b[0;34m(\u001b[0m\u001b[0my_test\u001b[0m\u001b[0;34m,\u001b[0m \u001b[0mtestsetPred\u001b[0m\u001b[0;34m)\u001b[0m\u001b[0;34m\u001b[0m\u001b[0;34m\u001b[0m\u001b[0m\n\u001b[1;32m      4\u001b[0m \u001b[0;34m\u001b[0m\u001b[0m\n\u001b[1;32m      5\u001b[0m \u001b[0;31m#AUC\u001b[0m\u001b[0;34m\u001b[0m\u001b[0;34m\u001b[0m\u001b[0;34m\u001b[0m\u001b[0m\n",
            "\u001b[0;31mNameError\u001b[0m: name 'clf' is not defined"
          ]
        }
      ]
    },
    {
      "cell_type": "markdown",
      "metadata": {
        "id": "sor71VKxFvpP"
      },
      "source": [
        "## Serialize Model Variant\n",
        "\n",
        "Serialize the classifier you like \n",
        "\n",
        "(1) Default Sklearn Model (clf)\n",
        "\n",
        "(2) Variant 1 (eng)\n",
        "\n",
        "(3) Variant 2\n",
        "\n",
        "(4) Variant 3"
      ]
    },
    {
      "cell_type": "code",
      "metadata": {
        "id": "5n-32p1xFuv8"
      },
      "source": [
        "\"\"\"\n",
        "Serialize Model\n",
        "\"\"\"\n",
        "joblib.dump(clf, 'mlp.pkl')"
      ],
      "execution_count": null,
      "outputs": []
    }
  ]
}