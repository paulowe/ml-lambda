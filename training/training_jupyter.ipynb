{
  "nbformat": 4,
  "nbformat_minor": 0,
  "metadata": {
    "kernelspec": {
      "display_name": "Python 3",
      "language": "python",
      "name": "python3"
    },
    "language_info": {
      "codemirror_mode": {
        "name": "ipython",
        "version": 3
      },
      "file_extension": ".py",
      "mimetype": "text/x-python",
      "name": "python",
      "nbconvert_exporter": "python",
      "pygments_lexer": "ipython3",
      "version": "3.7.4"
    },
    "colab": {
      "name": "training_jupyter.ipynb",
      "provenance": []
    }
  },
  "cells": [
    {
      "cell_type": "markdown",
      "metadata": {
        "id": "swXGJ1Hn5Ha6"
      },
      "source": [
        "## Import packages \n"
      ]
    },
    {
      "cell_type": "code",
      "metadata": {
        "id": "wnpRqdf73J_W",
        "outputId": "55ae36bd-0175-4c23-c220-ab5cd8ecc5fd",
        "colab": {
          "base_uri": "https://localhost:8080/",
          "height": 71
        }
      },
      "source": [
        "import sklearn\n",
        "import pandas as pd\n",
        "import numpy as np\n",
        "import csv as csv\n",
        "from sklearn.model_selection import train_test_split\n",
        "from sklearn.neural_network import MLPClassifier\n",
        "#from sklearn.metrics import classification_report\n",
        "from sklearn import metrics\n",
        "from sklearn.externals import joblib\n",
        "from sklearn.preprocessing import label_binarize\n",
        "from sklearn.metrics import precision_recall_fscore_support\n",
        "from sklearn.metrics import roc_auc_score"
      ],
      "execution_count": 2,
      "outputs": [
        {
          "output_type": "stream",
          "text": [
            "/usr/local/lib/python3.6/dist-packages/sklearn/externals/joblib/__init__.py:15: FutureWarning: sklearn.externals.joblib is deprecated in 0.21 and will be removed in 0.23. Please import this functionality directly from joblib, which can be installed with: pip install joblib. If this warning is raised when loading pickled models, you may need to re-serialize those models with scikit-learn 0.21+.\n",
            "  warnings.warn(msg, category=FutureWarning)\n"
          ],
          "name": "stderr"
        }
      ]
    },
    {
      "cell_type": "markdown",
      "metadata": {
        "id": "CEFUPItd4-Ot"
      },
      "source": [
        "2. Verify you are running Version 0.23.1 of sklearn. Some of the packages used for model evaluation only work with this version or higher.\n",
        "\n",
        "Run <> to upgrade sklearn"
      ]
    },
    {
      "cell_type": "code",
      "metadata": {
        "id": "BJ9o75PJ3J_e",
        "outputId": "3090cddc-a2c9-49fb-a5ec-2e24d39c4ffc",
        "colab": {
          "base_uri": "https://localhost:8080/",
          "height": 37
        }
      },
      "source": [
        "sklearn.__version__"
      ],
      "execution_count": 3,
      "outputs": [
        {
          "output_type": "execute_result",
          "data": {
            "application/vnd.google.colaboratory.intrinsic+json": {
              "type": "string"
            },
            "text/plain": [
              "'0.22.2.post1'"
            ]
          },
          "metadata": {
            "tags": []
          },
          "execution_count": 3
        }
      ]
    },
    {
      "cell_type": "markdown",
      "metadata": {
        "id": "vAEVz-ab52Tp"
      },
      "source": [
        "## Import Data\n",
        "\n",
        "X - all training examples\n",
        "y - all true labels"
      ]
    },
    {
      "cell_type": "code",
      "metadata": {
        "id": "fWeab8wQ3J_j"
      },
      "source": [
        "data = pd.read_csv('./syntheticData.csv')\n",
        "X, y = data.iloc[:, 1:], data.iloc[:,0]"
      ],
      "execution_count": 4,
      "outputs": []
    },
    {
      "cell_type": "code",
      "metadata": {
        "id": "RzLuuwlO3J_n",
        "outputId": "9a2604b4-c443-455a-82ed-37eacd9bb516"
      },
      "source": [
        "X_train, X_test, y_train, y_test = train_test_split(X, y, test_size=0.15, stratify=y)\n",
        "\n",
        "\"\"\"\n",
        "Now use scikit-learn's MLP classifier to train the model.\n",
        "\"\"\"\n",
        "clf = MLPClassifier()\n",
        "clf = clf.fit(X_train, y_train)\n",
        "\n",
        "\"\"\"\n",
        "Serialize Model\n",
        "\"\"\"\n",
        "joblib.dump(clf, 'model/mlp.pkl')"
      ],
      "execution_count": null,
      "outputs": [
        {
          "output_type": "stream",
          "text": [
            "/Users/pcowe/opt/anaconda3/lib/python3.7/site-packages/sklearn/neural_network/multilayer_perceptron.py:566: ConvergenceWarning: Stochastic Optimizer: Maximum iterations (200) reached and the optimization hasn't converged yet.\n",
            "  % self.max_iter, ConvergenceWarning)\n"
          ],
          "name": "stderr"
        },
        {
          "output_type": "execute_result",
          "data": {
            "text/plain": [
              "['model/mlp.pkl']"
            ]
          },
          "metadata": {
            "tags": []
          },
          "execution_count": 4
        }
      ]
    },
    {
      "cell_type": "code",
      "metadata": {
        "id": "Jh2NvNnN3J_q",
        "outputId": "11a2281b-5ed1-4251-f0b9-9b118d4d5bd6"
      },
      "source": [
        "# Model Evaluation\n",
        "y_pred_proba = clf.predict_proba(X_test)\n",
        "print(y_pred_proba)\n",
        "\n",
        "#AUC\n",
        "roc_auc_score(y_test, y_pred_proba, multi_class='ovr')"
      ],
      "execution_count": null,
      "outputs": [
        {
          "output_type": "stream",
          "text": [
            "[[4.31217215e-36 5.87930065e-36 4.77331711e-43 ... 1.45787505e-37\n",
            "  6.92954694e-29 1.98424865e-45]\n",
            " [4.16886166e-22 2.05389175e-18 3.63079311e-08 ... 5.07112167e-15\n",
            "  2.42686763e-22 2.80399013e-18]\n",
            " [8.45148223e-57 6.37943707e-48 3.14713684e-39 ... 5.30872622e-36\n",
            "  8.59381743e-44 8.64659353e-58]\n",
            " ...\n",
            " [3.87864131e-15 5.41671940e-10 1.54814501e-13 ... 2.54561988e-14\n",
            "  1.20565640e-10 2.24155147e-16]\n",
            " [9.86697230e-41 1.04890947e-33 2.15016647e-17 ... 4.00517135e-10\n",
            "  5.51809693e-25 1.61895031e-35]\n",
            " [5.64763286e-37 3.57881747e-45 3.84728784e-28 ... 2.45327991e-35\n",
            "  3.64446546e-42 5.91414464e-34]]\n"
          ],
          "name": "stdout"
        },
        {
          "output_type": "error",
          "ename": "TypeError",
          "evalue": "roc_auc_score() got an unexpected keyword argument 'multi_class'",
          "traceback": [
            "\u001b[0;31m---------------------------------------------------------------------------\u001b[0m",
            "\u001b[0;31mTypeError\u001b[0m                                 Traceback (most recent call last)",
            "\u001b[0;32m<ipython-input-36-0634f71f8b0e>\u001b[0m in \u001b[0;36m<module>\u001b[0;34m\u001b[0m\n\u001b[1;32m      4\u001b[0m \u001b[0;34m\u001b[0m\u001b[0m\n\u001b[1;32m      5\u001b[0m \u001b[0;31m#AUC\u001b[0m\u001b[0;34m\u001b[0m\u001b[0;34m\u001b[0m\u001b[0;34m\u001b[0m\u001b[0m\n\u001b[0;32m----> 6\u001b[0;31m \u001b[0mroc_auc_score\u001b[0m\u001b[0;34m(\u001b[0m\u001b[0my_test\u001b[0m\u001b[0;34m,\u001b[0m \u001b[0my_pred_proba\u001b[0m\u001b[0;34m,\u001b[0m \u001b[0mmulti_class\u001b[0m\u001b[0;34m=\u001b[0m\u001b[0;34m'ovr'\u001b[0m\u001b[0;34m)\u001b[0m\u001b[0;34m\u001b[0m\u001b[0;34m\u001b[0m\u001b[0m\n\u001b[0m",
            "\u001b[0;31mTypeError\u001b[0m: roc_auc_score() got an unexpected keyword argument 'multi_class'"
          ]
        }
      ]
    },
    {
      "cell_type": "code",
      "metadata": {
        "id": "5KcLcLP23J_s"
      },
      "source": [
        "#Precision, recall, fscore, accuracy\n",
        "print(classification_report(y_test, predictions))"
      ],
      "execution_count": null,
      "outputs": []
    }
  ]
}